{
 "cells": [
  {
   "cell_type": "code",
   "execution_count": 1,
   "id": "b069e73b",
   "metadata": {},
   "outputs": [],
   "source": [
    "import numpy as np"
   ]
  },
  {
   "cell_type": "code",
   "execution_count": 2,
   "id": "25f08e49",
   "metadata": {},
   "outputs": [],
   "source": [
    "import numpy as np"
   ]
  },
  {
   "cell_type": "code",
   "execution_count": 3,
   "id": "42504354",
   "metadata": {},
   "outputs": [
    {
     "name": "stdout",
     "output_type": "stream",
     "text": [
      "1.21.5\n"
     ]
    }
   ],
   "source": [
    "print(np.version.version)"
   ]
  },
  {
   "cell_type": "code",
   "execution_count": 4,
   "id": "a8d908b4",
   "metadata": {},
   "outputs": [
    {
     "data": {
      "text/plain": [
       "array([[[0.58561696, 0.92863104, 0.7853863 , 0.49546874, 0.60969533],\n",
       "        [0.84702462, 0.42220816, 0.8521552 , 0.35886797, 0.05193634],\n",
       "        [0.0801113 , 0.60121478, 0.28838273, 0.96283043, 0.48027916]],\n",
       "\n",
       "       [[0.47146704, 0.75195948, 0.36569123, 0.12342029, 0.395525  ],\n",
       "        [0.08754913, 0.73024111, 0.30373201, 0.77120512, 0.20515379],\n",
       "        [0.24836521, 0.89432839, 0.84276935, 0.35955372, 0.21864359]]])"
      ]
     },
     "execution_count": 4,
     "metadata": {},
     "output_type": "execute_result"
    }
   ],
   "source": [
    "a = np.random.random((2,3,5))\n",
    "\n",
    "a"
   ]
  },
  {
   "cell_type": "code",
   "execution_count": 5,
   "id": "146d049e",
   "metadata": {},
   "outputs": [],
   "source": [
    "b = np.ones((5,2,3))"
   ]
  },
  {
   "cell_type": "code",
   "execution_count": 6,
   "id": "fa215266",
   "metadata": {},
   "outputs": [
    {
     "data": {
      "text/plain": [
       "True"
      ]
     },
     "execution_count": 6,
     "metadata": {},
     "output_type": "execute_result"
    }
   ],
   "source": [
    "a.size == b.size"
   ]
  },
  {
   "cell_type": "code",
   "execution_count": 7,
   "id": "ce58e13a",
   "metadata": {},
   "outputs": [
    {
     "data": {
      "text/plain": [
       "((2, 3, 5), (5, 2, 3))"
      ]
     },
     "execution_count": 7,
     "metadata": {},
     "output_type": "execute_result"
    }
   ],
   "source": [
    "a.shape, b.shape"
   ]
  },
  {
   "cell_type": "code",
   "execution_count": 8,
   "id": "67e8ca0f",
   "metadata": {},
   "outputs": [
    {
     "data": {
      "text/plain": [
       "(2, 3, 5)"
      ]
     },
     "execution_count": 8,
     "metadata": {},
     "output_type": "execute_result"
    }
   ],
   "source": [
    "c = np.transpose(b,(1, 2, 0))\n",
    "c.shape"
   ]
  },
  {
   "cell_type": "code",
   "execution_count": 9,
   "id": "25d8242b",
   "metadata": {},
   "outputs": [
    {
     "data": {
      "text/plain": [
       "array([[[1., 1., 1., 1., 1.],\n",
       "        [1., 1., 1., 1., 1.],\n",
       "        [1., 1., 1., 1., 1.]],\n",
       "\n",
       "       [[1., 1., 1., 1., 1.],\n",
       "        [1., 1., 1., 1., 1.],\n",
       "        [1., 1., 1., 1., 1.]]])"
      ]
     },
     "execution_count": 9,
     "metadata": {},
     "output_type": "execute_result"
    }
   ],
   "source": [
    "c"
   ]
  },
  {
   "cell_type": "code",
   "execution_count": 10,
   "id": "87524620",
   "metadata": {},
   "outputs": [],
   "source": [
    "d = np.add(a,c)"
   ]
  },
  {
   "cell_type": "code",
   "execution_count": 11,
   "id": "dded8fea",
   "metadata": {},
   "outputs": [
    {
     "data": {
      "text/plain": [
       "array([[[0.58561696, 0.92863104, 0.7853863 , 0.49546874, 0.60969533],\n",
       "        [0.84702462, 0.42220816, 0.8521552 , 0.35886797, 0.05193634],\n",
       "        [0.0801113 , 0.60121478, 0.28838273, 0.96283043, 0.48027916]],\n",
       "\n",
       "       [[0.47146704, 0.75195948, 0.36569123, 0.12342029, 0.395525  ],\n",
       "        [0.08754913, 0.73024111, 0.30373201, 0.77120512, 0.20515379],\n",
       "        [0.24836521, 0.89432839, 0.84276935, 0.35955372, 0.21864359]]])"
      ]
     },
     "execution_count": 11,
     "metadata": {},
     "output_type": "execute_result"
    }
   ],
   "source": [
    "a"
   ]
  },
  {
   "cell_type": "code",
   "execution_count": 12,
   "id": "6203ba91",
   "metadata": {},
   "outputs": [
    {
     "data": {
      "text/plain": [
       "array([[[1.58561696, 1.92863104, 1.7853863 , 1.49546874, 1.60969533],\n",
       "        [1.84702462, 1.42220816, 1.8521552 , 1.35886797, 1.05193634],\n",
       "        [1.0801113 , 1.60121478, 1.28838273, 1.96283043, 1.48027916]],\n",
       "\n",
       "       [[1.47146704, 1.75195948, 1.36569123, 1.12342029, 1.395525  ],\n",
       "        [1.08754913, 1.73024111, 1.30373201, 1.77120512, 1.20515379],\n",
       "        [1.24836521, 1.89432839, 1.84276935, 1.35955372, 1.21864359]]])"
      ]
     },
     "execution_count": 12,
     "metadata": {},
     "output_type": "execute_result"
    }
   ],
   "source": [
    "d"
   ]
  },
  {
   "cell_type": "code",
   "execution_count": 13,
   "id": "26216faf",
   "metadata": {},
   "outputs": [
    {
     "data": {
      "text/plain": [
       "array([[[0.58561696, 0.92863104, 0.7853863 , 0.49546874, 0.60969533],\n",
       "        [0.84702462, 0.42220816, 0.8521552 , 0.35886797, 0.05193634],\n",
       "        [0.0801113 , 0.60121478, 0.28838273, 0.96283043, 0.48027916]],\n",
       "\n",
       "       [[0.47146704, 0.75195948, 0.36569123, 0.12342029, 0.395525  ],\n",
       "        [0.08754913, 0.73024111, 0.30373201, 0.77120512, 0.20515379],\n",
       "        [0.24836521, 0.89432839, 0.84276935, 0.35955372, 0.21864359]]])"
      ]
     },
     "execution_count": 13,
     "metadata": {},
     "output_type": "execute_result"
    }
   ],
   "source": [
    "e = np.multiply(a,c)\n",
    "e"
   ]
  },
  {
   "cell_type": "code",
   "execution_count": 14,
   "id": "a784f506",
   "metadata": {},
   "outputs": [
    {
     "data": {
      "text/plain": [
       "1.962830433210093"
      ]
     },
     "execution_count": 14,
     "metadata": {},
     "output_type": "execute_result"
    }
   ],
   "source": [
    "d_max = d.max()\n",
    "d_max"
   ]
  },
  {
   "cell_type": "code",
   "execution_count": 15,
   "id": "e01693f0",
   "metadata": {},
   "outputs": [
    {
     "data": {
      "text/plain": [
       "1.05193634497319"
      ]
     },
     "execution_count": 15,
     "metadata": {},
     "output_type": "execute_result"
    }
   ],
   "source": [
    "d_min = d.min()\n",
    "d_min"
   ]
  },
  {
   "cell_type": "code",
   "execution_count": 16,
   "id": "e96e0a65",
   "metadata": {},
   "outputs": [
    {
     "data": {
      "text/plain": [
       "1.5039804512742019"
      ]
     },
     "execution_count": 16,
     "metadata": {},
     "output_type": "execute_result"
    }
   ],
   "source": [
    "d_mean = d.mean()\n",
    "d_mean"
   ]
  },
  {
   "cell_type": "code",
   "execution_count": 17,
   "id": "6ceaf46a",
   "metadata": {},
   "outputs": [
    {
     "data": {
      "text/plain": [
       "array([[[0.58561696, 0.92863104, 0.7853863 , 0.49546874, 0.60969533],\n",
       "        [0.84702462, 0.42220816, 0.8521552 , 0.35886797, 0.05193634],\n",
       "        [0.0801113 , 0.60121478, 0.28838273, 0.96283043, 0.48027916]],\n",
       "\n",
       "       [[0.47146704, 0.75195948, 0.36569123, 0.12342029, 0.395525  ],\n",
       "        [0.08754913, 0.73024111, 0.30373201, 0.77120512, 0.20515379],\n",
       "        [0.24836521, 0.89432839, 0.84276935, 0.35955372, 0.21864359]]])"
      ]
     },
     "execution_count": 17,
     "metadata": {},
     "output_type": "execute_result"
    }
   ],
   "source": [
    "f = np.empty((2,3,5))\n",
    "f"
   ]
  },
  {
   "cell_type": "code",
   "execution_count": 40,
   "id": "78c958cb",
   "metadata": {},
   "outputs": [
    {
     "name": "stdout",
     "output_type": "stream",
     "text": [
      "[[[ 75.  75.  75.  25.  75.]\n",
      "  [ 75.  25.  75.  25.   0.]\n",
      "  [ 25.  75.  25. 100.  25.]]\n",
      "\n",
      " [[ 25.  75.  25.  25.  25.]\n",
      "  [ 25.  75.  25.  75.  25.]\n",
      "  [ 25.  75.  75.  25.  25.]]]\n"
     ]
    }
   ],
   "source": [
    "a=0\n",
    "b=0\n",
    "c=0\n",
    "for x in d:\n",
    "    for y in x:\n",
    "        for z in y:\n",
    "            if z>d_min and z<d_mean:\n",
    "                f[a][b][c]=25\n",
    "            if z>d_mean and z<d_max:\n",
    "                f[a][b][c]=75\n",
    "            if z==d_mean:\n",
    "                f[a][b][c]=50\n",
    "            if z==d_min:\n",
    "                f[a][b][c]=0\n",
    "            if z==d_max:\n",
    "                f[a][b][c]=100\n",
    "            c+=1\n",
    "        c=0\n",
    "        b+=1\n",
    "    b=0\n",
    "    a+=1\n",
    "print(f)"
   ]
  },
  {
   "cell_type": "code",
   "execution_count": 41,
   "id": "2c26dc3e",
   "metadata": {},
   "outputs": [
    {
     "name": "stdout",
     "output_type": "stream",
     "text": [
      "[[[1.58561696 1.92863104 1.7853863  1.49546874 1.60969533]\n",
      "  [1.84702462 1.42220816 1.8521552  1.35886797 1.05193634]\n",
      "  [1.0801113  1.60121478 1.28838273 1.96283043 1.48027916]]\n",
      "\n",
      " [[1.47146704 1.75195948 1.36569123 1.12342029 1.395525  ]\n",
      "  [1.08754913 1.73024111 1.30373201 1.77120512 1.20515379]\n",
      "  [1.24836521 1.89432839 1.84276935 1.35955372 1.21864359]]]\n"
     ]
    }
   ],
   "source": [
    "print(d)"
   ]
  },
  {
   "cell_type": "code",
   "execution_count": 42,
   "id": "09d6742e",
   "metadata": {},
   "outputs": [
    {
     "name": "stdout",
     "output_type": "stream",
     "text": [
      "[[[ 75.  75.  75.  25.  75.]\n",
      "  [ 75.  25.  75.  25.   0.]\n",
      "  [ 25.  75.  25. 100.  25.]]\n",
      "\n",
      " [[ 25.  75.  25.  25.  25.]\n",
      "  [ 25.  75.  25.  75.  25.]\n",
      "  [ 25.  75.  75.  25.  25.]]]\n"
     ]
    }
   ],
   "source": [
    "print(f)"
   ]
  },
  {
   "cell_type": "code",
   "execution_count": null,
   "id": "cadfa79e",
   "metadata": {},
   "outputs": [],
   "source": []
  }
 ],
 "metadata": {
  "kernelspec": {
   "display_name": "Python 3 (ipykernel)",
   "language": "python",
   "name": "python3"
  },
  "language_info": {
   "codemirror_mode": {
    "name": "ipython",
    "version": 3
   },
   "file_extension": ".py",
   "mimetype": "text/x-python",
   "name": "python",
   "nbconvert_exporter": "python",
   "pygments_lexer": "ipython3",
   "version": "3.9.12"
  }
 },
 "nbformat": 4,
 "nbformat_minor": 5
}
