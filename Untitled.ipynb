{
 "cells": [
  {
   "cell_type": "code",
   "execution_count": 9,
   "id": "5ccc2512",
   "metadata": {},
   "outputs": [],
   "source": [
    "#1\n",
    "import numpy as np"
   ]
  },
  {
   "cell_type": "code",
   "execution_count": 14,
   "id": "8c80d003",
   "metadata": {},
   "outputs": [
    {
     "data": {
      "text/plain": [
       "'1.20.3'"
      ]
     },
     "execution_count": 14,
     "metadata": {},
     "output_type": "execute_result"
    }
   ],
   "source": [
    "#2\n",
    "np.__version__"
   ]
  },
  {
   "cell_type": "code",
   "execution_count": 16,
   "id": "59b00a02",
   "metadata": {},
   "outputs": [
    {
     "name": "stdout",
     "output_type": "stream",
     "text": [
      "blas_mkl_info:\n",
      "    libraries = ['mkl_rt', 'pthread']\n",
      "    library_dirs = ['/Users/yasmin/opt/anaconda3/lib']\n",
      "    define_macros = [('SCIPY_MKL_H', None), ('HAVE_CBLAS', None)]\n",
      "    include_dirs = ['/Users/yasmin/opt/anaconda3/include']\n",
      "blas_opt_info:\n",
      "    libraries = ['mkl_rt', 'pthread']\n",
      "    library_dirs = ['/Users/yasmin/opt/anaconda3/lib']\n",
      "    define_macros = [('SCIPY_MKL_H', None), ('HAVE_CBLAS', None)]\n",
      "    include_dirs = ['/Users/yasmin/opt/anaconda3/include']\n",
      "lapack_mkl_info:\n",
      "    libraries = ['mkl_rt', 'pthread']\n",
      "    library_dirs = ['/Users/yasmin/opt/anaconda3/lib']\n",
      "    define_macros = [('SCIPY_MKL_H', None), ('HAVE_CBLAS', None)]\n",
      "    include_dirs = ['/Users/yasmin/opt/anaconda3/include']\n",
      "lapack_opt_info:\n",
      "    libraries = ['mkl_rt', 'pthread']\n",
      "    library_dirs = ['/Users/yasmin/opt/anaconda3/lib']\n",
      "    define_macros = [('SCIPY_MKL_H', None), ('HAVE_CBLAS', None)]\n",
      "    include_dirs = ['/Users/yasmin/opt/anaconda3/include']\n"
     ]
    }
   ],
   "source": [
    "np.show_config()"
   ]
  },
  {
   "cell_type": "code",
   "execution_count": 24,
   "id": "0481b475",
   "metadata": {},
   "outputs": [],
   "source": [
    "#3\n",
    "a = np.ramdom.random((2,3,5))\n"
   ]
  },
  {
   "cell_type": "code",
   "execution_count": 26,
   "id": "d229baf6",
   "metadata": {},
   "outputs": [
    {
     "name": "stdout",
     "output_type": "stream",
     "text": [
      "[[[0.4464555  0.82433314 0.61780138 0.89949455 0.78410557]\n",
      "  [0.58660553 0.33544357 0.12402198 0.44266784 0.22131955]\n",
      "  [0.05519018 0.97796692 0.59712826 0.68511771 0.99143634]]\n",
      "\n",
      " [[0.33054447 0.28747568 0.98828269 0.85723086 0.26659375]\n",
      "  [0.60693452 0.91743511 0.92412748 0.24915337 0.56552644]\n",
      "  [0.77638492 0.31832075 0.34398543 0.01853781 0.72087324]]]\n"
     ]
    }
   ],
   "source": [
    "#4\n",
    "print(a)"
   ]
  },
  {
   "cell_type": "code",
   "execution_count": 27,
   "id": "090c876e",
   "metadata": {},
   "outputs": [],
   "source": [
    "#5\n",
    "\n",
    "b= np.full((5,2,3),1)\n",
    "\n",
    "\n"
   ]
  },
  {
   "cell_type": "code",
   "execution_count": 28,
   "id": "8c0e7980",
   "metadata": {},
   "outputs": [
    {
     "name": "stdout",
     "output_type": "stream",
     "text": [
      "[[[1 1 1]\n",
      "  [1 1 1]]\n",
      "\n",
      " [[1 1 1]\n",
      "  [1 1 1]]\n",
      "\n",
      " [[1 1 1]\n",
      "  [1 1 1]]\n",
      "\n",
      " [[1 1 1]\n",
      "  [1 1 1]]\n",
      "\n",
      " [[1 1 1]\n",
      "  [1 1 1]]]\n"
     ]
    }
   ],
   "source": [
    "#6\n",
    "print(b)"
   ]
  },
  {
   "cell_type": "code",
   "execution_count": 39,
   "id": "f639686e",
   "metadata": {},
   "outputs": [
    {
     "name": "stdout",
     "output_type": "stream",
     "text": [
      "30\n",
      "30\n"
     ]
    },
    {
     "data": {
      "text/plain": [
       "True"
      ]
     },
     "execution_count": 39,
     "metadata": {},
     "output_type": "execute_result"
    }
   ],
   "source": [
    "#7\n",
    "print(a.size) \n",
    "\n",
    "print(b.size)\n",
    "\n",
    "a.size == b.size\n",
    "    \n",
    "\n"
   ]
  },
  {
   "cell_type": "code",
   "execution_count": 40,
   "id": "0ca85f0c",
   "metadata": {},
   "outputs": [
    {
     "ename": "ValueError",
     "evalue": "operands could not be broadcast together with shapes (2,3,5) (5,2,3) ",
     "output_type": "error",
     "traceback": [
      "\u001b[0;31m---------------------------------------------------------------------------\u001b[0m",
      "\u001b[0;31mValueError\u001b[0m                                Traceback (most recent call last)",
      "\u001b[0;32m/var/folders/x5/35_m562959z2k_v0h2llkrzr0000gn/T/ipykernel_37356/422417251.py\u001b[0m in \u001b[0;36m<module>\u001b[0;34m\u001b[0m\n\u001b[1;32m      1\u001b[0m \u001b[0;31m#8\u001b[0m\u001b[0;34m\u001b[0m\u001b[0;34m\u001b[0m\u001b[0m\n\u001b[1;32m      2\u001b[0m \u001b[0;34m\u001b[0m\u001b[0m\n\u001b[0;32m----> 3\u001b[0;31m \u001b[0mnp\u001b[0m\u001b[0;34m.\u001b[0m\u001b[0madd\u001b[0m\u001b[0;34m(\u001b[0m\u001b[0ma\u001b[0m\u001b[0;34m,\u001b[0m\u001b[0mb\u001b[0m\u001b[0;34m)\u001b[0m\u001b[0;34m\u001b[0m\u001b[0;34m\u001b[0m\u001b[0m\n\u001b[0m",
      "\u001b[0;31mValueError\u001b[0m: operands could not be broadcast together with shapes (2,3,5) (5,2,3) "
     ]
    }
   ],
   "source": [
    "#8\n",
    "\n",
    "np.add(a,b)\n"
   ]
  },
  {
   "cell_type": "code",
   "execution_count": 41,
   "id": "ff18ea16",
   "metadata": {},
   "outputs": [
    {
     "data": {
      "text/plain": [
       "(2, 3, 5)"
      ]
     },
     "execution_count": 41,
     "metadata": {},
     "output_type": "execute_result"
    }
   ],
   "source": [
    "a.shape"
   ]
  },
  {
   "cell_type": "code",
   "execution_count": 44,
   "id": "53338ee4",
   "metadata": {},
   "outputs": [
    {
     "data": {
      "text/plain": [
       "array([[[1, 1, 1, 1, 1],\n",
       "        [1, 1, 1, 1, 1],\n",
       "        [1, 1, 1, 1, 1]],\n",
       "\n",
       "       [[1, 1, 1, 1, 1],\n",
       "        [1, 1, 1, 1, 1],\n",
       "        [1, 1, 1, 1, 1]]])"
      ]
     },
     "execution_count": 44,
     "metadata": {},
     "output_type": "execute_result"
    }
   ],
   "source": [
    "#9\n",
    "\n",
    "c = b.transpose(1,2,0)\n",
    "c"
   ]
  },
  {
   "cell_type": "code",
   "execution_count": 46,
   "id": "c4148615",
   "metadata": {},
   "outputs": [
    {
     "data": {
      "text/plain": [
       "array([[[1.4464555 , 1.82433314, 1.61780138, 1.89949455, 1.78410557],\n",
       "        [1.58660553, 1.33544357, 1.12402198, 1.44266784, 1.22131955],\n",
       "        [1.05519018, 1.97796692, 1.59712826, 1.68511771, 1.99143634]],\n",
       "\n",
       "       [[1.33054447, 1.28747568, 1.98828269, 1.85723086, 1.26659375],\n",
       "        [1.60693452, 1.91743511, 1.92412748, 1.24915337, 1.56552644],\n",
       "        [1.77638492, 1.31832075, 1.34398543, 1.01853781, 1.72087324]]])"
      ]
     },
     "execution_count": 46,
     "metadata": {},
     "output_type": "execute_result"
    }
   ],
   "source": [
    "#10\n",
    "d = np.add(a,c) \n",
    "d"
   ]
  },
  {
   "cell_type": "code",
   "execution_count": 51,
   "id": "0dfc4e7c",
   "metadata": {},
   "outputs": [
    {
     "name": "stdout",
     "output_type": "stream",
     "text": [
      "Es a [[[0.4464555  0.82433314 0.61780138 0.89949455 0.78410557]\n",
      "  [0.58660553 0.33544357 0.12402198 0.44266784 0.22131955]\n",
      "  [0.05519018 0.97796692 0.59712826 0.68511771 0.99143634]]\n",
      "\n",
      " [[0.33054447 0.28747568 0.98828269 0.85723086 0.26659375]\n",
      "  [0.60693452 0.91743511 0.92412748 0.24915337 0.56552644]\n",
      "  [0.77638492 0.31832075 0.34398543 0.01853781 0.72087324]]]\n",
      "Es b [[[1 1 1]\n",
      "  [1 1 1]]\n",
      "\n",
      " [[1 1 1]\n",
      "  [1 1 1]]\n",
      "\n",
      " [[1 1 1]\n",
      "  [1 1 1]]\n",
      "\n",
      " [[1 1 1]\n",
      "  [1 1 1]]\n",
      "\n",
      " [[1 1 1]\n",
      "  [1 1 1]]]\n"
     ]
    }
   ],
   "source": [
    "#11\n",
    "print('Es a', a)\n",
    "\n",
    "print('Es b', b)\n"
   ]
  },
  {
   "cell_type": "code",
   "execution_count": 52,
   "id": "c617f570",
   "metadata": {},
   "outputs": [
    {
     "data": {
      "text/plain": [
       "array([[[0.4464555 , 0.82433314, 0.61780138, 0.89949455, 0.78410557],\n",
       "        [0.58660553, 0.33544357, 0.12402198, 0.44266784, 0.22131955],\n",
       "        [0.05519018, 0.97796692, 0.59712826, 0.68511771, 0.99143634]],\n",
       "\n",
       "       [[0.33054447, 0.28747568, 0.98828269, 0.85723086, 0.26659375],\n",
       "        [0.60693452, 0.91743511, 0.92412748, 0.24915337, 0.56552644],\n",
       "        [0.77638492, 0.31832075, 0.34398543, 0.01853781, 0.72087324]]])"
      ]
     },
     "execution_count": 52,
     "metadata": {},
     "output_type": "execute_result"
    }
   ],
   "source": [
    "#12\n",
    "\n",
    "e = np.multiply(a, c)\n",
    "e"
   ]
  },
  {
   "cell_type": "code",
   "execution_count": 54,
   "id": "354a76d2",
   "metadata": {},
   "outputs": [
    {
     "data": {
      "text/plain": [
       "True"
      ]
     },
     "execution_count": 54,
     "metadata": {},
     "output_type": "execute_result"
    }
   ],
   "source": [
    "a.size == e.size"
   ]
  },
  {
   "cell_type": "code",
   "execution_count": 55,
   "id": "316449e1",
   "metadata": {},
   "outputs": [],
   "source": [
    "#14\n",
    "\n",
    "d_max = d.max()\n",
    "\n",
    "d_min = d.min()\n",
    "\n",
    "d_mean = d.mean()"
   ]
  },
  {
   "cell_type": "code",
   "execution_count": 57,
   "id": "916b98bc",
   "metadata": {},
   "outputs": [
    {
     "data": {
      "text/plain": [
       "array([[[0.4464555 , 0.82433314, 0.61780138, 0.89949455, 0.78410557],\n",
       "        [0.58660553, 0.33544357, 0.12402198, 0.44266784, 0.22131955],\n",
       "        [0.05519018, 0.97796692, 0.59712826, 0.68511771, 0.99143634]],\n",
       "\n",
       "       [[0.33054447, 0.28747568, 0.98828269, 0.85723086, 0.26659375],\n",
       "        [0.60693452, 0.91743511, 0.92412748, 0.24915337, 0.56552644],\n",
       "        [0.77638492, 0.31832075, 0.34398543, 0.01853781, 0.72087324]]])"
      ]
     },
     "execution_count": 57,
     "metadata": {},
     "output_type": "execute_result"
    }
   ],
   "source": [
    "f = np.empty([2,3,5])\n",
    "f"
   ]
  },
  {
   "cell_type": "code",
   "execution_count": 58,
   "id": "7dbef0b8",
   "metadata": {},
   "outputs": [
    {
     "name": "stdout",
     "output_type": "stream",
     "text": [
      "[[[ 25.  75.  75.  75.  75.]\n",
      "  [ 75.  25.  25.  25.  25.]\n",
      "  [ 25.  75.  75.  75. 100.]]\n",
      "\n",
      " [[ 25.  25.  75.  75.  25.]\n",
      "  [ 75.  75.  75.  25.  75.]\n",
      "  [ 75.  25.  25.   0.  75.]]]\n"
     ]
    }
   ],
   "source": [
    "a=0\n",
    "b=0\n",
    "c=0\n",
    "for x in d:\n",
    "    for y in x:\n",
    "        for z in y:\n",
    "            if z>d_min and z<d_mean:\n",
    "                f[a][b][c]=25\n",
    "            if z>d_mean and z<d_max:\n",
    "                f[a][b][c]=75\n",
    "            if z==d_mean:\n",
    "                f[a][b][c]=50\n",
    "            if z==d_min:\n",
    "                f[a][b][c]=0\n",
    "            if z==d_max:\n",
    "                f[a][b][c]=100\n",
    "            c+=1\n",
    "        c=0\n",
    "        b+=1\n",
    "    b=0\n",
    "    a+=1\n",
    "print(f)"
   ]
  },
  {
   "cell_type": "code",
   "execution_count": 59,
   "id": "343852d0",
   "metadata": {},
   "outputs": [
    {
     "name": "stdout",
     "output_type": "stream",
     "text": [
      "[[[1.4464555  1.82433314 1.61780138 1.89949455 1.78410557]\n",
      "  [1.58660553 1.33544357 1.12402198 1.44266784 1.22131955]\n",
      "  [1.05519018 1.97796692 1.59712826 1.68511771 1.99143634]]\n",
      "\n",
      " [[1.33054447 1.28747568 1.98828269 1.85723086 1.26659375]\n",
      "  [1.60693452 1.91743511 1.92412748 1.24915337 1.56552644]\n",
      "  [1.77638492 1.31832075 1.34398543 1.01853781 1.72087324]]]\n",
      "[[[ 25.  75.  75.  75.  75.]\n",
      "  [ 75.  25.  25.  25.  25.]\n",
      "  [ 25.  75.  75.  75. 100.]]\n",
      "\n",
      " [[ 25.  25.  75.  75.  25.]\n",
      "  [ 75.  75.  75.  25.  75.]\n",
      "  [ 75.  25.  25.   0.  75.]]]\n"
     ]
    }
   ],
   "source": [
    "print(d)\n",
    "print(f)"
   ]
  },
  {
   "cell_type": "code",
   "execution_count": null,
   "id": "62cff681",
   "metadata": {},
   "outputs": [],
   "source": [
    "indice = []\n",
    "filas = []\n",
    "columnas =[]\n",
    "\n",
    "for i in "
   ]
  }
 ],
 "metadata": {
  "kernelspec": {
   "display_name": "Python 3 (ipykernel)",
   "language": "python",
   "name": "python3"
  },
  "language_info": {
   "codemirror_mode": {
    "name": "ipython",
    "version": 3
   },
   "file_extension": ".py",
   "mimetype": "text/x-python",
   "name": "python",
   "nbconvert_exporter": "python",
   "pygments_lexer": "ipython3",
   "version": "3.9.7"
  }
 },
 "nbformat": 4,
 "nbformat_minor": 5
}
